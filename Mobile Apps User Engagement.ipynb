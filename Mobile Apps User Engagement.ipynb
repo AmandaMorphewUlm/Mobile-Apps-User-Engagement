{
 "cells": [
  {
   "cell_type": "markdown",
   "metadata": {},
   "source": [
    "# Mobile App Usage Analysis\n",
    "\n",
    "Prepared by Amanda Morphew-Ulm  \n",
    "Last Edited: 2020-03-15  \n",
    "*An important note to the reader:\n",
    "This report was created as a guided project during the [Dataquest.io](https://app.dataquest.io/) course **Python for Data Science: Fundamentals**.*\n",
    "\n",
    "## Google Play and App Store\n",
    "\n",
    "This project explores data on existing Google Play and App Store mobile apps, including content rating, genre, downloads, and user ratings. As our company focuses on free-to-install apps that generate revenue via ads, our business model relies on user ad views and engagement. Therefore, our focus in analyzing this dataset is to understand what types of apps attract more users, so our developers can design our products for high levels of user engagement.\n",
    "\n",
    "There are over 2 million apps on each of the two stores our company develops for, and collecting data on all of them is not currently practical. We're using two publicly available data sets that comprise representative samples of the data we're looking for:\n",
    "- [A data set](https://www.kaggle.com/lava18/google-play-store-apps) containing data about approximately 10,000 Android apps from Google Play; the data was collected in August 2018.\n",
    "- [A data set](https://www.kaggle.com/ramamet4/app-store-apple-data-set-10k-apps) containing data about approximately 7,000 iOS apps from the App Store; the data was collected in July 2017.\n",
    "\n",
    "First, we create a function to open and explore both data sets. This is a reusable set of code that lets us print easy-to-read rows."
   ]
  },
  {
   "cell_type": "code",
   "execution_count": 1,
   "metadata": {},
   "outputs": [],
   "source": [
    "#Parameters:\n",
    "#dataset - expected to be a list of lists; it should not include a header row\n",
    "#start and end - expected to be integers and represent the starting and ending indices of a slice from the data set\n",
    "#rows_and_columns - expected to be a Boolean and defaults to False\n",
    "def explore_data(dataset, start, end, rows_and_columns=False):\n",
    "    dataset_slice=dataset[start:end]\n",
    "    for row in dataset_slice:\n",
    "        print(row)\n",
    "        print('\\n') #\\n is a special character that adds a new empty line\n",
    "    if rows_and_columns:\n",
    "        print('Number of rows:',len(dataset))\n",
    "        print('Number of columns:',len(dataset[0]))"
   ]
  },
  {
   "cell_type": "markdown",
   "metadata": {},
   "source": [
    "Now we'll open the two data set CSV files so we have each CSV file assigned to a Python variable."
   ]
  },
  {
   "cell_type": "code",
   "execution_count": 2,
   "metadata": {},
   "outputs": [],
   "source": [
    "opened_file=open('F:/Jupyter/datasets/AppleStore.csv',encoding='utf8')\n",
    "from csv import reader\n",
    "read_file=reader(opened_file)\n",
    "apple_apps_data=list(read_file)\n",
    "opened_file=open('F:/Jupyter/datasets/googleplaystore.csv',encoding='utf8')\n",
    "from csv import reader\n",
    "read_file=reader(opened_file)\n",
    "google_apps_data=list(read_file)"
   ]
  },
  {
   "cell_type": "markdown",
   "metadata": {},
   "source": [
    "We can now use our defined variables to access our data sets using:\n",
    "\n",
    "- apple_apps_data - iOS App Store data set\n",
    "- google_apps_data - Google Play Store data set\n",
    "\n",
    "Now we need to insert those variables into the function we defined above, along with a few adjustments. We'll start by printing the header row to see our column names, and then use our defined function to see the first five rows of data, the number of rows (excluding headers), and the number of columns:\n",
    "\n",
    "- Since the data has a header row, we use [1:] to exclude it\n",
    "- We want to look at just a few rows of data at first, to get an idea of what we have, so we'll use a start of 0 (the first row) and end of 5 (stop before the sixth row)\n",
    "- We need to change the rows_and_columns to True, since our data has both"
   ]
  },
  {
   "cell_type": "code",
   "execution_count": 3,
   "metadata": {},
   "outputs": [
    {
     "name": "stdout",
     "output_type": "stream",
     "text": [
      "['id', 'track_name', 'size_bytes', 'currency', 'price', 'rating_count_tot', 'rating_count_ver', 'user_rating', 'user_rating_ver', 'ver', 'cont_rating', 'prime_genre', 'sup_devices.num', 'ipadSc_urls.num', 'lang.num', 'vpp_lic']\n",
      "\n",
      "\n",
      "['284882215', 'Facebook', '389879808', 'USD', '0.0', '2974676', '212', '3.5', '3.5', '95.0', '4+', 'Social Networking', '37', '1', '29', '1']\n",
      "\n",
      "\n",
      "['389801252', 'Instagram', '113954816', 'USD', '0.0', '2161558', '1289', '4.5', '4.0', '10.23', '12+', 'Photo & Video', '37', '0', '29', '1']\n",
      "\n",
      "\n",
      "['529479190', 'Clash of Clans', '116476928', 'USD', '0.0', '2130805', '579', '4.5', '4.5', '9.24.12', '9+', 'Games', '38', '5', '18', '1']\n",
      "\n",
      "\n",
      "['420009108', 'Temple Run', '65921024', 'USD', '0.0', '1724546', '3842', '4.5', '4.0', '1.6.2', '9+', 'Games', '40', '5', '1', '1']\n",
      "\n",
      "\n",
      "['284035177', 'Pandora - Music & Radio', '130242560', 'USD', '0.0', '1126879', '3594', '4.0', '4.5', '8.4.1', '12+', 'Music', '37', '4', '1', '1']\n",
      "\n",
      "\n",
      "Number of rows: 7197\n",
      "Number of columns: 16\n"
     ]
    }
   ],
   "source": [
    "print(apple_apps_data[0])\n",
    "print('\\n') #Add an empty line for readability\n",
    "explore_data(apple_apps_data[1:],0,5,rows_and_columns=True)"
   ]
  },
  {
   "cell_type": "code",
   "execution_count": 4,
   "metadata": {},
   "outputs": [
    {
     "name": "stdout",
     "output_type": "stream",
     "text": [
      "['App', 'Category', 'Rating', 'Reviews', 'Size', 'Installs', 'Type', 'Price', 'Content Rating', 'Genres', 'Last Updated', 'Current Ver', 'Android Ver']\n",
      "\n",
      "\n",
      "['Photo Editor & Candy Camera & Grid & ScrapBook', 'ART_AND_DESIGN', '4.1', '159', '19M', '10,000+', 'Free', '0', 'Everyone', 'Art & Design', 'January 7, 2018', '1.0.0', '4.0.3 and up']\n",
      "\n",
      "\n",
      "['Coloring book moana', 'ART_AND_DESIGN', '3.9', '967', '14M', '500,000+', 'Free', '0', 'Everyone', 'Art & Design;Pretend Play', 'January 15, 2018', '2.0.0', '4.0.3 and up']\n",
      "\n",
      "\n",
      "['U Launcher Lite – FREE Live Cool Themes, Hide Apps', 'ART_AND_DESIGN', '4.7', '87510', '8.7M', '5,000,000+', 'Free', '0', 'Everyone', 'Art & Design', 'August 1, 2018', '1.2.4', '4.0.3 and up']\n",
      "\n",
      "\n",
      "['Sketch - Draw & Paint', 'ART_AND_DESIGN', '4.5', '215644', '25M', '50,000,000+', 'Free', '0', 'Teen', 'Art & Design', 'June 8, 2018', 'Varies with device', '4.2 and up']\n",
      "\n",
      "\n",
      "['Pixel Draw - Number Art Coloring Book', 'ART_AND_DESIGN', '4.3', '967', '2.8M', '100,000+', 'Free', '0', 'Everyone', 'Art & Design;Creativity', 'June 20, 2018', '1.1', '4.4 and up']\n",
      "\n",
      "\n",
      "Number of rows: 10841\n",
      "Number of columns: 13\n"
     ]
    }
   ],
   "source": [
    "print(google_apps_data[0])\n",
    "print('\\n') #Add an empty line for readability\n",
    "explore_data(google_apps_data[1:],0,5,rows_and_columns=True)"
   ]
  },
  {
   "cell_type": "markdown",
   "metadata": {},
   "source": [
    "## Data Cleaning\n",
    "\n",
    "Before we begin analysis, we need to make sure the data is accurate. In other words, we need to detect inaccurate data, as well as duplicate data, and remove it from our data sets.\n",
    "\n",
    "Our company only produces free-to-install apps that are directed toward an English-speaking audience, so it makes sense to limit our data set to those parameters as well.\n",
    "\n",
    "### Inaccurate Data\n",
    "\n",
    "Since these data sets have been used extensively by other people completing similar analyses, we can check on the discussion boards where we downloaded the data sets.\n",
    "\n",
    "The [App Store discussion board](https://www.kaggle.com/ramamet4/app-store-apple-data-set-10k-apps/discussion) doesn't seem to indicate any data errors that other users have found.\n",
    "\n",
    "In the discussion board for the Google Play Store data set, we see a few reports of incorrect data:\n",
    "\n",
    "- [Wrong entry for Life Made WI-Fi Touchscreen Photo Frame](https://www.kaggle.com/lava18/google-play-store-apps/discussion/66015) - I found that this row in our data set is index 10473; the poster most likely removed their header row and then noted the index\n",
    "- [Wrong Type value for Command & Conquer: Rivals](https://www.kaggle.com/lava18/google-play-store-apps/discussion/101414) - Checking the comments, we see that the index of this row is most likely 9149, as we have not removed any data from our data set at this point\n",
    "\n",
    "While we could search the Play Store and correct these values, we have a large enough sample that it makes more sense to delete these two rows. We will delete these two rows, lower row first (deleting from top down would change the index of the second row we want to delete)."
   ]
  },
  {
   "cell_type": "code",
   "execution_count": 5,
   "metadata": {
    "scrolled": true
   },
   "outputs": [
    {
     "name": "stdout",
     "output_type": "stream",
     "text": [
      "['Life Made WI-Fi Touchscreen Photo Frame', '1.9', '19', '3.0M', '1,000+', 'Free', '0', 'Everyone', '', 'February 11, 2018', '1.0.19', '4.0 and up']\n",
      "Columns in this row: 12\n",
      "\n",
      "\n",
      "['Command & Conquer: Rivals', 'FAMILY', 'NaN', '0', 'Varies with device', '0', 'NaN', '0', 'Everyone 10+', 'Strategy', 'June 28, 2018', 'Varies with device', 'Varies with device']\n"
     ]
    }
   ],
   "source": [
    "print(google_apps_data[10473])\n",
    "print('Columns in this row: ' + str(len(google_apps_data[10473])))\n",
    "print('\\n')\n",
    "print(google_apps_data[9149])"
   ]
  },
  {
   "cell_type": "code",
   "execution_count": 6,
   "metadata": {},
   "outputs": [
    {
     "name": "stdout",
     "output_type": "stream",
     "text": [
      "Row 10473 removed.\n",
      "Row 9149 removed.\n"
     ]
    }
   ],
   "source": [
    "#Do not re-run this block without running entire notebook\n",
    "del google_apps_data[10473]\n",
    "print('Row 10473 removed.')\n",
    "del google_apps_data[9149]\n",
    "print('Row 9149 removed.')"
   ]
  },
  {
   "cell_type": "markdown",
   "metadata": {},
   "source": [
    "### Duplicate Data\n",
    "\n",
    "While checking the discussion board for mentions of inaccurate data, we also see some users mention that duplicates occur in the Google Play Store data set. We will use the app name as the value to check for duplicates, using the below loop:"
   ]
  },
  {
   "cell_type": "code",
   "execution_count": 7,
   "metadata": {},
   "outputs": [
    {
     "name": "stdout",
     "output_type": "stream",
     "text": [
      "Number of duplicate apps: 1181\n",
      "\n",
      "\n",
      "Examples of duplicate apps: ['Quick PDF Scanner + OCR FREE', 'Box', 'Google My Business', 'ZOOM Cloud Meetings', 'join.me - Simple Meetings', 'Box', 'Zenefits', 'Google Ads', 'Google My Business', 'Slack', 'FreshBooks Classic', 'Insightly CRM', 'QuickBooks Accounting: Invoicing & Expenses', 'HipChat - Chat Built for Teams', 'Xero Accounting Software']\n"
     ]
    }
   ],
   "source": [
    "#Create empty lists into which we can separate the unique values from the repeated values\n",
    "duplicate_apps=[]\n",
    "unique_apps=[]\n",
    "#Loop through the Google Play data, minus the header row\n",
    "for app in google_apps_data[1:]:\n",
    "    #Assign this app's name to a 'name' variable\n",
    "    name=app[0]\n",
    "    #Check to see if we've already listed this app in the unique_apps list\n",
    "    if name in unique_apps:\n",
    "        #If we have, put this name in the duplicate_apps list instead\n",
    "        duplicate_apps.append(name)\n",
    "    else:\n",
    "        #If this app isn't listed yet in unique_apps, add it to that list instead\n",
    "        unique_apps.append(name)\n",
    "#View our results\n",
    "print('Number of duplicate apps:', len(duplicate_apps))\n",
    "print('\\n')\n",
    "print('Examples of duplicate apps:', duplicate_apps[:15])"
   ]
  },
  {
   "cell_type": "markdown",
   "metadata": {},
   "source": [
    "Now that we have the names of our duplicate apps identified, how should we remove the extras?\n",
    "\n",
    "- If we choose a random one to keep, it may not contain the most recent data for that app\n",
    "- We could keep the highest version number; however, some rows say 'Varies with device'\n",
    "- The Installs column is written as interval strings, such as '1,000,000,000+', rather than integer values\n",
    "\n",
    "With those things in mind, our most likely candidate for identifying the most recent row for a duplicated app is going to be the Reviews column, which is stored here as specific integers and should only increase or stay the same as time passes.\n",
    "\n",
    "To remove the duplicates, we will:\n",
    "\n",
    "- Create a dictionary with unique app names as keys and their corresponding values are the highest number of reviews of that app\n",
    "- Use this information to create a new data set, which will have only one entry per app - the entry with the highest number of reviews from our original data set"
   ]
  },
  {
   "cell_type": "code",
   "execution_count": 8,
   "metadata": {},
   "outputs": [
    {
     "name": "stdout",
     "output_type": "stream",
     "text": [
      "9658\n"
     ]
    }
   ],
   "source": [
    "#We start by creating an empty dictionary\n",
    "reviews_max={}\n",
    "#Loop through the Google Play data, minus the header row\n",
    "for app in google_apps_data[1:]:\n",
    "    #Assign this app's name to a 'name' variable\n",
    "    name=app[0]\n",
    "    #Convert the number of reviews to a float and assign it to a variable\n",
    "    n_reviews=float(app[3])\n",
    "    #Check if name is already a key in reviews_max AND current n_reviews is larger than existing value\n",
    "    if name in reviews_max and reviews_max[name]<n_reviews:\n",
    "        #If yes, we update that existing value\n",
    "        reviews_max[name]=n_reviews\n",
    "    #Add name to reviews_max dictionary only if it's not already there\n",
    "    elif name not in reviews_max:\n",
    "        reviews_max[name]=n_reviews\n",
    "    #If neither of the above are true, we don't want to update it, so no \"else\" here\n",
    "#We expect a length of 9658 after removing duplicates; let's test this:\n",
    "print(len(reviews_max))"
   ]
  },
  {
   "cell_type": "markdown",
   "metadata": {},
   "source": [
    "Now that we have a dictionary holding the highest number of reviews for each app, we can use this to scrub our data set."
   ]
  },
  {
   "cell_type": "code",
   "execution_count": 9,
   "metadata": {},
   "outputs": [
    {
     "name": "stdout",
     "output_type": "stream",
     "text": [
      "9658\n"
     ]
    }
   ],
   "source": [
    "#This will become our newly cleaned data set\n",
    "google_clean=[]\n",
    "#This will just store app names\n",
    "already_added=[]\n",
    "#Loop through the Google Play data, minus the header row\n",
    "for app in google_apps_data[1:]:\n",
    "    #Assign this app's name to a 'name' variable\n",
    "    name=app[0]\n",
    "    #Convert the number of reviews to a float and assign it to a variable\n",
    "    n_reviews=float(app[3])\n",
    "    #If this row is the one with the highest number of reviews\n",
    "    #We also need the second condition to account for those cases where the highest number of reviews of a duplicate app is the same for more than one entry\n",
    "    if n_reviews==reviews_max[name] and name not in already_added:\n",
    "        google_clean.append(app)\n",
    "        already_added.append(name)\n",
    "#Let's check the length to see if this went as planned; it should equal 9658\n",
    "print(len(google_clean))\n",
    "        "
   ]
  },
  {
   "cell_type": "markdown",
   "metadata": {},
   "source": [
    "We now have a variable, google_clean, which contains our cleaned list of Google Play Store app data.\n",
    "\n",
    "As mentioned above, the iOS App Store discussion board does not mention any data errors or duplicates found by other users. However, we can quickly run our code again through the App Store data set to check for duplicates."
   ]
  },
  {
   "cell_type": "code",
   "execution_count": 10,
   "metadata": {},
   "outputs": [
    {
     "name": "stdout",
     "output_type": "stream",
     "text": [
      "Number of duplicate apps: 2\n",
      "\n",
      "\n",
      "Examples of duplicate apps: ['Mannequin Challenge', 'VR Roller Coaster']\n"
     ]
    }
   ],
   "source": [
    "#Create empty lists into which we can separate the unique values from the repeated values\n",
    "duplicate_ios_apps=[]\n",
    "unique_ios_apps=[]\n",
    "#Loop through the iOS store data, minus the header row\n",
    "for app in apple_apps_data[1:]:\n",
    "    #Assign this app's name to a 'name' variable\n",
    "    name=app[1]\n",
    "    #Check to see if we've already listed this app in the unique_apps list\n",
    "    if name in unique_ios_apps:\n",
    "        #If we have, put this name in the duplicate_apps list instead\n",
    "        duplicate_ios_apps.append(name)\n",
    "    else:\n",
    "        #If this app isn't listed yet in unique_apps, add it to that list instead\n",
    "        unique_ios_apps.append(name)\n",
    "#View our results\n",
    "print('Number of duplicate apps:', len(duplicate_ios_apps))\n",
    "print('\\n')\n",
    "print('Examples of duplicate apps:', duplicate_ios_apps[:15])"
   ]
  },
  {
   "cell_type": "markdown",
   "metadata": {},
   "source": [
    "Since we do find two duplicate app names for the Apple store data, let's run through the same process as we did with the Google apps data."
   ]
  },
  {
   "cell_type": "code",
   "execution_count": 11,
   "metadata": {},
   "outputs": [
    {
     "name": "stdout",
     "output_type": "stream",
     "text": [
      "7195\n"
     ]
    }
   ],
   "source": [
    "#Lets reset and reuse our reviews dictionary\n",
    "reviews_max={}\n",
    "#Loop through the Apple data, minus the header row\n",
    "for app in apple_apps_data[1:]:\n",
    "    #Assign this app's name to a 'name' variable\n",
    "    name=app[1]\n",
    "    #Convert the number of reviews to a float and assign it to a variable\n",
    "    n_reviews=float(app[5])\n",
    "    #Check if name is already a key in reviews_max AND current n_reviews is larger than existing value\n",
    "    if name in reviews_max and reviews_max[name]<n_reviews:\n",
    "        #If yes, we update that existing value\n",
    "        reviews_max[name]=n_reviews\n",
    "    #Add name to reviews_max dictionary only if it's not already there\n",
    "    elif name not in reviews_max:\n",
    "        reviews_max[name]=n_reviews\n",
    "    #If neither of the above are true, we don't want to update it, so no \"else\" here\n",
    "#We expect a length of 7195 after removing duplicates; let's test this:\n",
    "print(len(reviews_max))"
   ]
  },
  {
   "cell_type": "markdown",
   "metadata": {},
   "source": [
    "Just as we did for the Google data, we can use our reviews_max dictionary to scrub our data set."
   ]
  },
  {
   "cell_type": "code",
   "execution_count": 12,
   "metadata": {},
   "outputs": [
    {
     "name": "stdout",
     "output_type": "stream",
     "text": [
      "7195\n"
     ]
    }
   ],
   "source": [
    "#This will become our newly cleaned data set\n",
    "apple_clean=[]\n",
    "#We'll reset and reuse this list that will just store app names\n",
    "already_added=[]\n",
    "#Loop through the Apple data, minus the header row\n",
    "for app in apple_apps_data[1:]:\n",
    "    #Assign this app's name to a 'name' variable\n",
    "    name=app[1]\n",
    "    #Convert the number of reviews to a float and assign it to a variable\n",
    "    n_reviews=float(app[5])\n",
    "    #If this row is the one with the highest number of reviews\n",
    "    #We also need the second condition to account for those cases where the highest number of reviews of a duplicate app is the same for more than one entry\n",
    "    if n_reviews==reviews_max[name] and name not in already_added:\n",
    "        apple_clean.append(app)\n",
    "        already_added.append(name)\n",
    "#Let's check the length to see if this went as planned; it should equal 7195\n",
    "print(len(apple_clean))"
   ]
  },
  {
   "cell_type": "markdown",
   "metadata": {},
   "source": [
    "### Language Targeting\n",
    "\n",
    "*This section on language is taken verbatim from the Dataquest.io course, as their explanation is perfect and better than anything I tried to write!*\n",
    "\n",
    "Our analysis is geared toward an English-speaking audience as that is the only language for which our company develops apps. One way to go about this is to remove each app with a name containing a symbol that is not commonly used in English text — English text usually includes letters from the English alphabet, numbers composed of digits from 0 to 9, punctuation marks (., !, ?, ;), and other symbols (+, *, /).\n",
    "\n",
    "Behind the scenes, each character we use in a string has a corresponding number associated with it. For instance, the corresponding number for character 'a' is 97, character 'A' is 65, and character '爱' is 29,233. The numbers corresponding to the characters we commonly use in an English text are all in the range 0 to 127, according to the ASCII (American Standard Code for Information Interchange) system. Based on this number range, we can build a function that detects whether a character belongs to the set of common English characters or not. If the number is equal to or less than 127, then the character belongs to the set of common English characters.\n",
    "\n",
    "We can get the corresponding number of each character using the ord() built-in function."
   ]
  },
  {
   "cell_type": "code",
   "execution_count": 13,
   "metadata": {},
   "outputs": [
    {
     "name": "stdout",
     "output_type": "stream",
     "text": [
      "65\n",
      "29233\n"
     ]
    }
   ],
   "source": [
    "print(ord('A'))\n",
    "print(ord('爱'))"
   ]
  },
  {
   "cell_type": "markdown",
   "metadata": {},
   "source": [
    "In other words, we can check the parts of an app name's string for the numbers, and exclude apps that have numbers higher than 127.\n",
    "\n",
    "Python allows us to index and iterate on strings much like lists, which allows us to extract individual characters of a string and run them through a loop to check their number."
   ]
  },
  {
   "cell_type": "code",
   "execution_count": 14,
   "metadata": {},
   "outputs": [],
   "source": [
    "#We enter the app name we want to check as name_string\n",
    "def english_check(name_string):\n",
    "    for single in name_string: #This will loop through each character in that name\n",
    "        if ord(single)>127:\n",
    "            return False\n",
    "            #If we find a non-English character, the function stops at this point\n",
    "    return True"
   ]
  },
  {
   "cell_type": "markdown",
   "metadata": {},
   "source": [
    "We return False if the app name contains non-English characters, and True if it does not.  \n",
    "Let's test it with a few individual app names:"
   ]
  },
  {
   "cell_type": "code",
   "execution_count": 15,
   "metadata": {},
   "outputs": [
    {
     "name": "stdout",
     "output_type": "stream",
     "text": [
      "True\n",
      "False\n",
      "False\n",
      "False\n"
     ]
    }
   ],
   "source": [
    "is_english=english_check('Instagram')\n",
    "print(is_english)\n",
    "is_english=english_check('爱奇艺PPS -《欢乐颂2》电视剧热播')\n",
    "print(is_english)\n",
    "is_english=english_check('Docs To Go™ Free Office Suite')\n",
    "print(is_english)\n",
    "is_english=english_check('Instachat 😜')\n",
    "print(is_english)"
   ]
  },
  {
   "cell_type": "markdown",
   "metadata": {},
   "source": [
    "Here we can see that 'Docs To Go' and 'Instachat' are incorrectly flagged as non-English, presumably because of the ™ and 😜 characters, respectively. We can see why here:"
   ]
  },
  {
   "cell_type": "code",
   "execution_count": 16,
   "metadata": {},
   "outputs": [
    {
     "name": "stdout",
     "output_type": "stream",
     "text": [
      "8482\n",
      "128540\n"
     ]
    }
   ],
   "source": [
    "print(ord('™'))\n",
    "print(ord('😜'))"
   ]
  },
  {
   "cell_type": "markdown",
   "metadata": {},
   "source": [
    "This means that the function used above will inadvertantly lose apps that we meant to keep in our data set. We can minimize this effect if we only remove an app with more than three non-English characters; in other words, a given app can have up to three emoji or other special characters and still be retained. This isn't a perfect solution, but it should be effective enough for our purposes here. Let's redefine our function and include this change:"
   ]
  },
  {
   "cell_type": "code",
   "execution_count": 17,
   "metadata": {},
   "outputs": [
    {
     "name": "stdout",
     "output_type": "stream",
     "text": [
      "False\n",
      "True\n",
      "True\n"
     ]
    }
   ],
   "source": [
    "#We begin as before - enter the app name we want to check as name_string\n",
    "def english_check(name_string):\n",
    "    #Start an empty list to hold identified non-English characters\n",
    "    non_english_count=[]\n",
    "    for single in name_string: #This will loop through each character in that name\n",
    "        if ord(single)>127:\n",
    "            non_english_count.append(single) #Add each non-English character to our list\n",
    "    if len(non_english_count)>3:\n",
    "        return False\n",
    "        #If we have more than 3 characters flagged as non-English, the function stops here\n",
    "    return True            \n",
    "#Let's test our app names again with the edited function\n",
    "is_english=english_check('爱奇艺PPS -《欢乐颂2》电视剧热播')\n",
    "print(is_english)\n",
    "is_english=english_check('Docs To Go™ Free Office Suite')\n",
    "print(is_english)\n",
    "is_english=english_check('Instachat 😜')\n",
    "print(is_english)"
   ]
  },
  {
   "cell_type": "markdown",
   "metadata": {},
   "source": [
    "Now that we have our english_check function defined, we can run it on our duplicate-scrubbed data sets - google_clean and apple_clean - and generate new lists of those apps identified as English.\n",
    "\n",
    "It's important to remember at this point that apple_clean and google_clean no longer have header rows."
   ]
  },
  {
   "cell_type": "code",
   "execution_count": 18,
   "metadata": {},
   "outputs": [
    {
     "name": "stdout",
     "output_type": "stream",
     "text": [
      "English Google Apps:\n",
      "['Photo Editor & Candy Camera & Grid & ScrapBook', 'ART_AND_DESIGN', '4.1', '159', '19M', '10,000+', 'Free', '0', 'Everyone', 'Art & Design', 'January 7, 2018', '1.0.0', '4.0.3 and up']\n",
      "\n",
      "\n",
      "Number of rows: 9613\n",
      "Number of columns: 13\n",
      "\n",
      "\n",
      "Non-English Google Apps:\n",
      "['Flame - درب عقلك يوميا', 'EDUCATION', '4.6', '56065', '37M', '1,000,000+', 'Free', '0', 'Everyone', 'Education', 'July 26, 2018', '3.3', '4.1 and up']\n",
      "\n",
      "\n",
      "Number of rows: 45\n",
      "Number of columns: 13\n",
      "\n",
      "\n",
      "Expected Total Apps: 9658\n",
      "Actual Total Apps: 9658\n"
     ]
    }
   ],
   "source": [
    "#Create our new list that will contain English Google app data only\n",
    "google_english=[]\n",
    "#Create a list to hold non-English app data so we can check our work\n",
    "google_non_english=[]\n",
    "#Loop through the cleaned Google play data\n",
    "for app in google_clean:\n",
    "    #Assign this app's name to a 'name' variable\n",
    "    name=app[0]\n",
    "    #If that name is decided by our english_check function to be an English language app, add it to our new list\n",
    "    if english_check(name):\n",
    "        google_english.append(app)\n",
    "    else:\n",
    "        google_non_english.append(app)\n",
    "#Lets use our explore_data function to check our work; the two lengths should add up to 9658\n",
    "print('English Google Apps:')\n",
    "explore_data(google_english,0,1,rows_and_columns=True)\n",
    "print('\\n')\n",
    "print('Non-English Google Apps:')\n",
    "explore_data(google_non_english,0,1,rows_and_columns=True)\n",
    "print('\\n')\n",
    "print('Expected Total Apps: 9658')\n",
    "print('Actual Total Apps: '+str(len(google_english)+len(google_non_english)))"
   ]
  },
  {
   "cell_type": "markdown",
   "metadata": {},
   "source": [
    "From our sample rows, we can see that our language-based list separation appears successful, and that the lengths of the English and non-English lists add up to the expected number of rows."
   ]
  },
  {
   "cell_type": "code",
   "execution_count": 19,
   "metadata": {},
   "outputs": [
    {
     "name": "stdout",
     "output_type": "stream",
     "text": [
      "English Apple Apps:\n",
      "['284882215', 'Facebook', '389879808', 'USD', '0.0', '2974676', '212', '3.5', '3.5', '95.0', '4+', 'Social Networking', '37', '1', '29', '1']\n",
      "\n",
      "\n",
      "Number of rows: 6181\n",
      "Number of columns: 16\n",
      "\n",
      "\n",
      "Non-English Apple Apps:\n",
      "['445375097', '爱奇艺PPS -《欢乐颂2》电视剧热播', '224617472', 'USD', '0.0', '14844', '0', '4.0', '0.0', '6.3.3', '17+', 'Entertainment', '38', '5', '3', '1']\n",
      "\n",
      "\n",
      "Number of rows: 1014\n",
      "Number of columns: 16\n",
      "\n",
      "\n",
      "Expected Total Apps: 7195\n",
      "Actual Total Apps: 7195\n"
     ]
    }
   ],
   "source": [
    "#Create our new list that will contain English Apple app data only\n",
    "apple_english=[]\n",
    "#Create a list to hold non-English app data so we can check our work\n",
    "apple_non_english=[]\n",
    "#Loop through the cleaned Apple data\n",
    "for app in apple_clean:\n",
    "    #Assign this app's name to a 'name' variable\n",
    "    name=app[1]\n",
    "    #If that name is decided by our english_check function to be an English language app, add it to our new list\n",
    "    if english_check(name):\n",
    "        apple_english.append(app)\n",
    "    else:\n",
    "        apple_non_english.append(app)\n",
    "#Lets check our work again; the two lengths should add up to 7195\n",
    "print('English Apple Apps:')\n",
    "explore_data(apple_english,0,1,rows_and_columns=True)\n",
    "print('\\n')\n",
    "print('Non-English Apple Apps:')\n",
    "explore_data(apple_non_english,0,1,rows_and_columns=True)\n",
    "print('\\n')\n",
    "print('Expected Total Apps: 7195')\n",
    "print('Actual Total Apps: '+str(len(apple_english)+len(apple_non_english)))"
   ]
  },
  {
   "cell_type": "markdown",
   "metadata": {},
   "source": [
    "As we saw with the Google sample before, these samples and list lengths are in line with what we expect to see.\n",
    "\n",
    "We now have two lists:\n",
    "\n",
    "- google_english, a list of 9613 English language Google Play store apps\n",
    "- apple_english, a list of 6181 English language Apple App Store apps"
   ]
  },
  {
   "cell_type": "markdown",
   "metadata": {},
   "source": [
    "### Free and Non-Free Apps\n",
    "Our company only builds apps that are free to install, so as we did with language, it makes sense to isolate the free apps in our data sets. This will make our data sets as similar as possible to the products that our company produces.\n",
    "\n",
    "From our previous exploration of the data sets, we know that the price column for Apple apps contains string '0.0' for free apps, while the Google apps price column contains string '0' for free apps.\n",
    "\n",
    "As we did in our language-based list division, we'll check our resulting lists for appropriate rows and lengths."
   ]
  },
  {
   "cell_type": "code",
   "execution_count": 20,
   "metadata": {},
   "outputs": [
    {
     "name": "stdout",
     "output_type": "stream",
     "text": [
      "Free English Google Apps:\n",
      "['Photo Editor & Candy Camera & Grid & ScrapBook', 'ART_AND_DESIGN', '4.1', '159', '19M', '10,000+', 'Free', '0', 'Everyone', 'Art & Design', 'January 7, 2018', '1.0.0', '4.0.3 and up']\n",
      "\n",
      "\n",
      "Number of rows: 8863\n",
      "Number of columns: 13\n",
      "\n",
      "\n",
      "Paid English Google Apps:\n",
      "['TurboScan: scan documents and receipts in PDF', 'BUSINESS', '4.7', '11442', '6.8M', '100,000+', 'Paid', '$4.99', 'Everyone', 'Business', 'March 25, 2018', '1.5.2', '4.0 and up']\n",
      "\n",
      "\n",
      "Number of rows: 750\n",
      "Number of columns: 13\n",
      "\n",
      "\n",
      "Expected Total Apps: 9613\n",
      "Actual Total Apps: 9613\n"
     ]
    }
   ],
   "source": [
    "#Create a list that will hold our free Google apps\n",
    "google_english_free=[]\n",
    "#Create a list to hold paid apps to check our work\n",
    "google_english_paid=[]\n",
    "for app in google_english:\n",
    "    if app[7]=='0':\n",
    "        google_english_free.append(app)\n",
    "    else:\n",
    "        google_english_paid.append(app)\n",
    "#Lets use our explore_data function to check our work; the two lengths should add up to 9613\n",
    "print('Free English Google Apps:')\n",
    "explore_data(google_english_free,0,1,rows_and_columns=True)\n",
    "print('\\n')\n",
    "print('Paid English Google Apps:')\n",
    "explore_data(google_english_paid,0,1,rows_and_columns=True)\n",
    "print('\\n')\n",
    "print('Expected Total Apps: 9613')\n",
    "print('Actual Total Apps: '+str(len(google_english_free)+len(google_english_paid)))"
   ]
  },
  {
   "cell_type": "code",
   "execution_count": 21,
   "metadata": {},
   "outputs": [
    {
     "name": "stdout",
     "output_type": "stream",
     "text": [
      "Free English Apple Apps:\n",
      "['284882215', 'Facebook', '389879808', 'USD', '0.0', '2974676', '212', '3.5', '3.5', '95.0', '4+', 'Social Networking', '37', '1', '29', '1']\n",
      "\n",
      "\n",
      "Number of rows: 3220\n",
      "Number of columns: 16\n",
      "\n",
      "\n",
      "Paid English Apple Apps:\n",
      "['362949845', 'Fruit Ninja Classic', '104590336', 'USD', '1.99', '698516', '132', '4.5', '4.0', '2.3.9', '4+', 'Games', '38', '5', '13', '1']\n",
      "\n",
      "\n",
      "Number of rows: 2961\n",
      "Number of columns: 16\n",
      "\n",
      "\n",
      "Expected Total Apps: 6181\n",
      "Actual Total Apps: 6181\n"
     ]
    }
   ],
   "source": [
    "#Create a list that will hold our free Apple apps\n",
    "apple_english_free=[]\n",
    "#Create a list to hold paid apps to check our work\n",
    "apple_english_paid=[]\n",
    "for app in apple_english:\n",
    "    if app[4]=='0.0':\n",
    "        apple_english_free.append(app)\n",
    "    else:\n",
    "        apple_english_paid.append(app)\n",
    "#Lets use our explore_data function to check our work; the two lengths should add up to 6181\n",
    "print('Free English Apple Apps:')\n",
    "explore_data(apple_english_free,0,1,rows_and_columns=True)\n",
    "print('\\n')\n",
    "print('Paid English Apple Apps:')\n",
    "explore_data(apple_english_paid,0,1,rows_and_columns=True)\n",
    "print('\\n')\n",
    "print('Expected Total Apps: 6181')\n",
    "print('Actual Total Apps: '+str(len(apple_english_free)+len(apple_english_paid)))"
   ]
  },
  {
   "cell_type": "markdown",
   "metadata": {},
   "source": [
    "Now that we have both lists of apps isolated down to only the free-to-install app rows, we're ready to move on from cleaning the data into analyzing it."
   ]
  },
  {
   "cell_type": "markdown",
   "metadata": {},
   "source": [
    "## Data Analysis\n",
    "\n",
    "As a company producing free apps, our only way of getting a return on our investment in app development is in-app ads. Our revenue is completely dependent on the number of people using our apps, rather than initial purchases or downloads. Therefore, our interest in the Google and Apple store data sets lies in what they can tell us about app usage and engagement.\n",
    "\n",
    "Our end goal for any new app idea is to publish it on both Google Play and the Apple App Store, but we have a three-phase deployment strategy to minimize our risk and overhead. First, we build an Android MVP - minimum viable product - of the app, and we put it on Google Play. Second, if we see a positive response from users, we invest more development time and money into that Android app. Finally, if the app is profitable after six months on the Google Play store, we build the iOS version and publish it on the App Store.\n",
    "\n",
    "Since the final goal is to publish the app on both the Google and Apple stores, we need to examine both of our data sets to find out what types of apps do well in both markets. \n",
    "\n",
    "### App Genre\n",
    "\n",
    "Let's start by looking at what the most common app genres are in each market.\n",
    "\n",
    "We know from our original data exploration that the Apple App Store has a prime_genre column that contains the main genre of each app. The Google Play store also has this column, titled Category; however, it also contains a Genres column that contains additional genres separated by semicolons.\n",
    "\n"
   ]
  },
  {
   "cell_type": "code",
   "execution_count": 22,
   "metadata": {},
   "outputs": [
    {
     "name": "stdout",
     "output_type": "stream",
     "text": [
      "Apple App Store Prime Genre Column:\n",
      "Games : 58.13664596273293 %\n",
      "Entertainment : 7.888198757763975 %\n",
      "Photo & Video : 4.968944099378882 %\n",
      "Education : 3.6645962732919255 %\n",
      "Social Networking : 3.291925465838509 %\n",
      "Shopping : 2.608695652173913 %\n",
      "Utilities : 2.515527950310559 %\n",
      "Sports : 2.142857142857143 %\n",
      "Music : 2.049689440993789 %\n",
      "Health & Fitness : 2.018633540372671 %\n",
      "Productivity : 1.7391304347826086 %\n",
      "Lifestyle : 1.5838509316770186 %\n",
      "News : 1.3354037267080745 %\n",
      "Travel : 1.2422360248447204 %\n",
      "Finance : 1.1180124223602486 %\n",
      "Weather : 0.8695652173913043 %\n",
      "Food & Drink : 0.8074534161490683 %\n",
      "Reference : 0.5590062111801243 %\n",
      "Business : 0.5279503105590062 %\n",
      "Book : 0.43478260869565216 %\n",
      "Navigation : 0.18633540372670807 %\n",
      "Medical : 0.18633540372670807 %\n",
      "Catalogs : 0.12422360248447205 %\n",
      "\n",
      "\n",
      "Google Play Store Category Column:\n",
      "FAMILY : 18.898792733837304 %\n",
      "GAME : 9.725826469592688 %\n",
      "TOOLS : 8.462146000225657 %\n",
      "BUSINESS : 4.592124562789123 %\n",
      "LIFESTYLE : 3.9038700214374367 %\n",
      "PRODUCTIVITY : 3.8925871601038025 %\n",
      "FINANCE : 3.7007785174320205 %\n",
      "MEDICAL : 3.5315355974275078 %\n",
      "SPORTS : 3.396141261423897 %\n",
      "PERSONALIZATION : 3.317161232088458 %\n",
      "COMMUNICATION : 3.2381812027530184 %\n",
      "HEALTH_AND_FITNESS : 3.0802211440821394 %\n",
      "PHOTOGRAPHY : 2.944826808078529 %\n",
      "NEWS_AND_MAGAZINES : 2.798149610741284 %\n",
      "SOCIAL : 2.6627552747376737 %\n",
      "TRAVEL_AND_LOCAL : 2.335552296062281 %\n",
      "SHOPPING : 2.245289405393208 %\n",
      "BOOKS_AND_REFERENCE : 2.1437436533904997 %\n",
      "DATING : 1.8616721200496444 %\n",
      "VIDEO_PLAYERS : 1.7939749520478394 %\n",
      "MAPS_AND_NAVIGATION : 1.399074805370642 %\n",
      "FOOD_AND_DRINK : 1.241114746699763 %\n",
      "EDUCATION : 1.1621347173643235 %\n",
      "ENTERTAINMENT : 0.9590432133589079 %\n",
      "LIBRARIES_AND_DEMO : 0.9364774906916393 %\n",
      "AUTO_AND_VEHICLES : 0.9251946293580051 %\n",
      "HOUSE_AND_HOME : 0.8236488773552973 %\n",
      "WEATHER : 0.8010831546880289 %\n",
      "EVENTS : 0.7108202640189552 %\n",
      "PARENTING : 0.6544059573507841 %\n",
      "ART_AND_DESIGN : 0.6431230960171499 %\n",
      "COMICS : 0.6205573733498815 %\n",
      "BEAUTY : 0.5979916506826132 %\n",
      "\n",
      "\n",
      "Google Play Store Genres Column:\n",
      "Tools : 8.450863138892023 %\n",
      "Entertainment : 6.070179397495204 %\n",
      "Education : 5.348076272142616 %\n",
      "Business : 4.592124562789123 %\n",
      "Productivity : 3.8925871601038025 %\n",
      "Lifestyle : 3.8925871601038025 %\n",
      "Finance : 3.7007785174320205 %\n",
      "Medical : 3.5315355974275078 %\n",
      "Sports : 3.463838429425702 %\n",
      "Personalization : 3.317161232088458 %\n",
      "Communication : 3.2381812027530184 %\n",
      "Action : 3.102786866749408 %\n",
      "Health & Fitness : 3.0802211440821394 %\n",
      "Photography : 2.944826808078529 %\n",
      "News & Magazines : 2.798149610741284 %\n",
      "Social : 2.6627552747376737 %\n",
      "Travel & Local : 2.324269434728647 %\n",
      "Shopping : 2.245289405393208 %\n",
      "Books & Reference : 2.1437436533904997 %\n",
      "Simulation : 2.042197901387792 %\n",
      "Dating : 1.8616721200496444 %\n",
      "Arcade : 1.8503892587160102 %\n",
      "Video Players & Editors : 1.771409229380571 %\n",
      "Casual : 1.7601263680469368 %\n",
      "Maps & Navigation : 1.399074805370642 %\n",
      "Food & Drink : 1.241114746699763 %\n",
      "Puzzle : 1.128286133363421 %\n",
      "Racing : 0.9928917973598104 %\n",
      "Role Playing : 0.9364774906916393 %\n",
      "Libraries & Demo : 0.9364774906916393 %\n",
      "Auto & Vehicles : 0.9251946293580051 %\n",
      "Strategy : 0.9026289066907368 %\n",
      "House & Home : 0.8236488773552973 %\n",
      "Weather : 0.8010831546880289 %\n",
      "Events : 0.7108202640189552 %\n",
      "Adventure : 0.6769716800180525 %\n",
      "Comics : 0.6092745120162473 %\n",
      "Beauty : 0.5979916506826132 %\n",
      "Art & Design : 0.5979916506826132 %\n",
      "Parenting : 0.4964458986799052 %\n",
      "Card : 0.4513144533453684 %\n",
      "Casino : 0.42874873067809993 %\n",
      "Trivia : 0.4174658693444658 %\n",
      "Educational;Education : 0.3949001466771973 %\n",
      "Board : 0.38361728534356315 %\n",
      "Educational : 0.37233442400992894 %\n",
      "Education;Education : 0.33848584000902626 %\n",
      "Word : 0.25950581067358686 %\n",
      "Casual;Pretend Play : 0.2369400880063184 %\n",
      "Music : 0.20309150400541578 %\n",
      "Racing;Action & Adventure : 0.16924292000451313 %\n",
      "Puzzle;Brain Games : 0.16924292000451313 %\n",
      "Entertainment;Music & Video : 0.16924292000451313 %\n",
      "Casual;Brain Games : 0.1353943360036105 %\n",
      "Casual;Action & Adventure : 0.1353943360036105 %\n",
      "Arcade;Action & Adventure : 0.1241114746699763 %\n",
      "Action;Action & Adventure : 0.10154575200270789 %\n",
      "Educational;Pretend Play : 0.09026289066907367 %\n",
      "Simulation;Action & Adventure : 0.07898002933543948 %\n",
      "Parenting;Education : 0.07898002933543948 %\n",
      "Entertainment;Brain Games : 0.07898002933543948 %\n",
      "Board;Brain Games : 0.07898002933543948 %\n",
      "Parenting;Music & Video : 0.06769716800180525 %\n",
      "Educational;Brain Games : 0.06769716800180525 %\n",
      "Casual;Creativity : 0.06769716800180525 %\n",
      "Art & Design;Creativity : 0.06769716800180525 %\n",
      "Education;Pretend Play : 0.05641430666817105 %\n",
      "Role Playing;Pretend Play : 0.045131445334536835 %\n",
      "Education;Creativity : 0.045131445334536835 %\n",
      "Role Playing;Action & Adventure : 0.033848584000902626 %\n",
      "Puzzle;Action & Adventure : 0.033848584000902626 %\n",
      "Entertainment;Creativity : 0.033848584000902626 %\n",
      "Entertainment;Action & Adventure : 0.033848584000902626 %\n",
      "Educational;Creativity : 0.033848584000902626 %\n",
      "Educational;Action & Adventure : 0.033848584000902626 %\n",
      "Education;Music & Video : 0.033848584000902626 %\n",
      "Education;Brain Games : 0.033848584000902626 %\n",
      "Education;Action & Adventure : 0.033848584000902626 %\n",
      "Adventure;Action & Adventure : 0.033848584000902626 %\n",
      "Video Players & Editors;Music & Video : 0.022565722667268417 %\n",
      "Sports;Action & Adventure : 0.022565722667268417 %\n",
      "Simulation;Pretend Play : 0.022565722667268417 %\n",
      "Puzzle;Creativity : 0.022565722667268417 %\n",
      "Music;Music & Video : 0.022565722667268417 %\n",
      "Entertainment;Pretend Play : 0.022565722667268417 %\n",
      "Casual;Education : 0.022565722667268417 %\n",
      "Board;Action & Adventure : 0.022565722667268417 %\n",
      "Video Players & Editors;Creativity : 0.011282861333634209 %\n",
      "Trivia;Education : 0.011282861333634209 %\n",
      "Travel & Local;Action & Adventure : 0.011282861333634209 %\n",
      "Tools;Education : 0.011282861333634209 %\n",
      "Strategy;Education : 0.011282861333634209 %\n",
      "Strategy;Creativity : 0.011282861333634209 %\n",
      "Strategy;Action & Adventure : 0.011282861333634209 %\n",
      "Simulation;Education : 0.011282861333634209 %\n",
      "Role Playing;Brain Games : 0.011282861333634209 %\n",
      "Racing;Pretend Play : 0.011282861333634209 %\n",
      "Puzzle;Education : 0.011282861333634209 %\n",
      "Parenting;Brain Games : 0.011282861333634209 %\n",
      "Music & Audio;Music & Video : 0.011282861333634209 %\n",
      "Lifestyle;Pretend Play : 0.011282861333634209 %\n",
      "Lifestyle;Education : 0.011282861333634209 %\n",
      "Health & Fitness;Education : 0.011282861333634209 %\n",
      "Health & Fitness;Action & Adventure : 0.011282861333634209 %\n",
      "Entertainment;Education : 0.011282861333634209 %\n",
      "Communication;Creativity : 0.011282861333634209 %\n",
      "Comics;Creativity : 0.011282861333634209 %\n",
      "Casual;Music & Video : 0.011282861333634209 %\n",
      "Card;Action & Adventure : 0.011282861333634209 %\n",
      "Books & Reference;Education : 0.011282861333634209 %\n",
      "Art & Design;Pretend Play : 0.011282861333634209 %\n",
      "Art & Design;Action & Adventure : 0.011282861333634209 %\n",
      "Arcade;Pretend Play : 0.011282861333634209 %\n",
      "Adventure;Education : 0.011282861333634209 %\n"
     ]
    }
   ],
   "source": [
    "#This function will create a frequency table for our genre column\n",
    "def freq_table(dataset, index):\n",
    "    #This holds our frequency table as a dictionary\n",
    "    genre_frequency={}\n",
    "    #This counts how many rows we iterate over\n",
    "    row_count=0\n",
    "    for row in dataset:\n",
    "        row_count+=1\n",
    "        app_genre=row[index]\n",
    "        if app_genre in genre_frequency:\n",
    "            genre_frequency[app_genre]+=1\n",
    "        else:\n",
    "            genre_frequency[app_genre]=1\n",
    "    #Now we need to transform the genre counts into percentages\n",
    "    genre_frequency_percent={}\n",
    "    for key in genre_frequency:\n",
    "        percent=(genre_frequency[key]/row_count)*100\n",
    "        genre_frequency_percent[key]=percent\n",
    "    return genre_frequency_percent\n",
    "#This function uses our new freq_table function to generate the frequency table, then\n",
    "#transforms it into a list of tuples, then sorts and prints the list in a descending order\n",
    "def display_table(dataset, index):\n",
    "    table = freq_table(dataset, index)\n",
    "    table_display = []\n",
    "    for key in table:\n",
    "        key_val_as_tuple = (table[key], key)\n",
    "        table_display.append(key_val_as_tuple)\n",
    "    #Sorted is a built-in function\n",
    "    table_sorted = sorted(table_display, reverse = True)\n",
    "    for entry in table_sorted:\n",
    "        print(entry[1], ':', entry[0],'%')\n",
    "#Now let's use our new functions to print the Apple prime_genre column (index 11)\n",
    "#and the Google Category and Genres (index 1 and 9)\n",
    "print('Apple App Store Prime Genre Column:')\n",
    "display_table(apple_english_free,11)\n",
    "print('\\n')\n",
    "print('Google Play Store Category Column:')\n",
    "display_table(google_english_free,1)\n",
    "print('\\n')\n",
    "print('Google Play Store Genres Column:')\n",
    "display_table(google_english_free,9)"
   ]
  },
  {
   "attachments": {
    "GooglePlayStoreCategories.png": {
     "image/png": "[encoded data removed]"
    }
   },
   "cell_type": "markdown",
   "metadata": {},
   "source": [
    "### Apple App Store Genres\n",
    "\n",
    "For the Apple App Store prime_genre column, we have a majority of free, English-language apps listed in the Games genre with 58.1%, and the nearest runner-up is Entertainment with 7.9%. These two genres are the only ones that we holding more than 5% of the apps on the store. That's a significant chunk of iOS apps that are geared toward games or at least more toward having fun rather than productivity, news, or other hobbies.\n",
    "\n",
    "Based on this analysis alone, it might seem obvious that we should develop a new game app; however, this data on its own doesn't necessarily mean that game apps have the largest number of active users. The fact that so many free apps are in the Games genre does imply that a lot of app developers believe that this is where the active users are, but we can't necessarily see from this frequency table whether their investments were rewarded.\n",
    "\n",
    "### Google Play Store Genres\n",
    "\n",
    "In the Google Play store Category column, which lists the single, primary app genre, we see a few categories with more than 5% of the free, English-language apps. The most frequent genre listed is Family, with 18.9%, and then with about half of that percentage we see Game, with Tools not far behind it. As with the App Store list, we see that news and hobbies other than mobile games are spread out further down the list, although the 8.5% of apps in the Tools genre shows us a more even balance between fun and productivity than the App Store had.\n",
    "\n",
    "What does the Family category contain? If we look at the current Google Play store online, we no longer see the Family category listed. \n",
    "\n",
    "![GooglePlayStoreCategories.png](attachment:GooglePlayStoreCategories.png)\n",
    "\n",
    "However, we do see several categories geared toward kids of different ages; a brief review of these reveals that they contain almost exclusively game apps. It seems likely that at the time our data was collection, the Family category contained predominantly kid-friendly game apps as well.\n",
    "\n",
    "The Genres column gets more specific; here we don't see Game, but rather game types, such as Puzzle, Role Playing, and Arcade. This level of specificity splits up the larger-level genres that we're looking for, and we don't have more specific data from the Apple App Store to compare this table to, so it makes more sense to disregard it and focus on the Category table for this analysis.\n",
    "\n",
    "As with our Apple analysis above, the large number of game and entertainment apps on the Google Play Store doesn't necessarily mean these apps have the most active users, but it does seem like these genres receive the most frequent investments from app developers. The Google Play Store also has a more even spread between its entertainment apps and more productivity-geared Tools apps.\n",
    "\n",
    "### How Many Users?\n",
    "\n",
    "Neither the App Store nor Google Play data sets can tell us exactly how many users open each app every day, or how much time users spend using each app. How can we use the data we have to get an idea of which genre has the most active users?\n",
    "\n",
    "### Apple App Store Ratings\n",
    "\n",
    "The Google Play Store has a helpful Installs column, which we can use to calculate the average number of installs for each genre; however, the App Store data does not contain the same information. The most promising data point that the Apple App Store contains is the number of user ratings each app has received. We can calculate average numbers of ratings for each app genre and compare them between the two app stores. To do that, we'll need to:\n",
    "\n",
    "- Isolate the apps of each genre.\n",
    "- Sum up the user ratings for the apps of that genre.\n",
    "- Divide the sum by the number of apps belonging to that genre (not by the total number of apps)."
   ]
  },
  {
   "cell_type": "code",
   "execution_count": 23,
   "metadata": {},
   "outputs": [
    {
     "name": "stdout",
     "output_type": "stream",
     "text": [
      "Social Networking : 71548.34905660378\n",
      "Photo & Video : 28441.54375\n",
      "Games : 22812.92467948718\n",
      "Music : 57326.530303030304\n",
      "Reference : 74942.11111111111\n",
      "Health & Fitness : 23298.015384615384\n",
      "Weather : 52279.892857142855\n",
      "Utilities : 18684.456790123455\n",
      "Travel : 28243.8\n",
      "Shopping : 26919.690476190477\n",
      "News : 21248.023255813954\n",
      "Navigation : 86090.33333333333\n",
      "Lifestyle : 16485.764705882353\n",
      "Entertainment : 14029.830708661417\n",
      "Food & Drink : 33333.92307692308\n",
      "Sports : 23008.898550724636\n",
      "Book : 39758.5\n",
      "Finance : 31467.944444444445\n",
      "Education : 7003.983050847458\n",
      "Productivity : 21028.410714285714\n",
      "Business : 7491.117647058823\n",
      "Catalogs : 4004.0\n",
      "Medical : 612.0\n"
     ]
    }
   ],
   "source": [
    "#We'll start by creating a frequency table for the prime_genre App Store column\n",
    "prime_genre_freq=freq_table(apple_english_free,11)\n",
    "#Let's also generate a dictionary to hold our final averages, so we can sort them for printing at the end\n",
    "avg_rating_count_by_genre={}\n",
    "for genre in prime_genre_freq:\n",
    "    #This will store the total sum of the app ratings\n",
    "    ratings_sum=0\n",
    "    #This will store the number of apps in the genre\n",
    "    len_genre=0\n",
    "    #For each app, check if the genre is our current loop's genre\n",
    "    for app in apple_english_free:\n",
    "        genre_app=app[11]\n",
    "        if genre_app==genre:\n",
    "            #If it is, save the number of ratings as a float, add it to the total sum of the app ratings,\n",
    "            #and increment our number of apps in this genre\n",
    "            app_ratings=float(app[5])\n",
    "            ratings_sum+=app_ratings\n",
    "            len_genre+=1\n",
    "    #Calculate the average number of ratings in the current loop's genre\n",
    "    avg_rating_count=ratings_sum/len_genre\n",
    "    #Print the result\n",
    "    print(str(genre)+' : '+str(avg_rating_count))"
   ]
  },
  {
   "cell_type": "markdown",
   "metadata": {},
   "source": [
    "In this list, we see that the highest average numbers of ratings are in the Navigation, Reference, and Social Networking genres, with 86,090, 74,942, and 71,548, respectively. Meanwhile, our Games category, which had the highest number of apps in it by far, only averages about 22,813 ratings per app. However, we also see some categories with considerably less than that in our list, bottoming out at Medical with 612. The fact that Games is still in the middle of the pack for the per-app average, and it has a much larger number of apps across which the genre's users have distributed their ratings, this indicates a fairly active level of engagement across the genre.\n",
    "\n",
    "We should also consider the fact that Navigation, Reference, and Social Networking have some other barriers to entry:\n",
    "\n",
    "- Navigation and Social Networking each have a small number of fairly well-established players (Google Maps, Waze; Facebook, Twitter), making it difficult to attract users away from their favorites\n",
    "- Reference apps are handy when users need them, but not the type of app users turn to for fun during dull moments\n",
    "\n",
    "With all of these things in mind, I recommend that our company develop an app for the Games category. There is enough variety here to encourage competition, and the nature of the genre pushes us to design a gamified experience that users will reach for again and again.\n",
    "\n",
    "### Google Play Store Installs\n",
    "\n",
    "Since the Google data set has a column showing the approximate number of installs for each app, we can use this to get a clearer idea of how popular each app, and therefore each genre, is.\n",
    "\n",
    "This column has open-ended values that are stored as strings, such as '5,000+', '10,000+', and '50,000,000+'. We won't be able to calculate a precise average install number for each genre using these values, but if we convert the strings to numbers, we can get a good enough idea of the genres' relative popularities for our purposes.\n",
    "\n",
    "We'll start by removing the ',' and '+' characters from the strings, and then we can calculate our averages for each genre."
   ]
  },
  {
   "cell_type": "code",
   "execution_count": 24,
   "metadata": {},
   "outputs": [
    {
     "name": "stdout",
     "output_type": "stream",
     "text": [
      "ART_AND_DESIGN : 1986335.0877192982\n",
      "AUTO_AND_VEHICLES : 647317.8170731707\n",
      "BEAUTY : 513151.88679245283\n",
      "BOOKS_AND_REFERENCE : 8767811.894736841\n",
      "BUSINESS : 1712290.1474201474\n",
      "COMICS : 817657.2727272727\n",
      "COMMUNICATION : 38456119.167247385\n",
      "DATING : 854028.8303030303\n",
      "EDUCATION : 1833495.145631068\n",
      "ENTERTAINMENT : 11640705.88235294\n",
      "EVENTS : 253542.22222222222\n",
      "FINANCE : 1387692.475609756\n",
      "FOOD_AND_DRINK : 1924897.7363636363\n",
      "HEALTH_AND_FITNESS : 4188821.9853479853\n",
      "HOUSE_AND_HOME : 1331540.5616438356\n",
      "LIBRARIES_AND_DEMO : 638503.734939759\n",
      "LIFESTYLE : 1437816.2687861272\n",
      "GAME : 15588015.603248259\n",
      "FAMILY : 3697848.1731343283\n",
      "MEDICAL : 120550.61980830671\n",
      "SOCIAL : 23253652.127118643\n",
      "SHOPPING : 7036877.311557789\n",
      "PHOTOGRAPHY : 17840110.40229885\n",
      "SPORTS : 3638640.1428571427\n",
      "TRAVEL_AND_LOCAL : 13984077.710144928\n",
      "TOOLS : 10801391.298666667\n",
      "PERSONALIZATION : 5201482.6122448975\n",
      "PRODUCTIVITY : 16787331.344927534\n",
      "PARENTING : 542603.6206896552\n",
      "WEATHER : 5074486.197183099\n",
      "VIDEO_PLAYERS : 24727872.452830188\n",
      "NEWS_AND_MAGAZINES : 9549178.467741935\n",
      "MAPS_AND_NAVIGATION : 4056941.7741935486\n"
     ]
    }
   ],
   "source": [
    "#Generate the frequency table for the Category column\n",
    "category_freq=freq_table(google_english_free,1)\n",
    "#Loop through the genres in this new table\n",
    "for genre in category_freq:\n",
    "    #This variable will store the sum of installs in each genre\n",
    "    installs_sum=0\n",
    "    #This variable will store the number of apps in each genre\n",
    "    len_category=0\n",
    "    #Loop through the apps in our Google data set\n",
    "    for app in google_english_free:\n",
    "        genre_app=app[1]\n",
    "        #If this app's genre is the same genre we're on in the outer loop\n",
    "        if genre_app==genre:\n",
    "            #Save the number of installs for this app as a variable\n",
    "            app_installs=app[5]\n",
    "            #Use the method str.replace() to remove any ',' characters\n",
    "            app_installs=app_installs.replace(',','')\n",
    "            #Remove any '+' characters\n",
    "            app_installs=app_installs.replace('+','')\n",
    "            #Convert this variable to a float\n",
    "            app_installs=float(app_installs)\n",
    "            #Add the number of installs to our installs_sum total\n",
    "            installs_sum+=app_installs\n",
    "            #Count this app in the len_category variable\n",
    "            len_category+=1\n",
    "    #Compute our average installs per app within this genre\n",
    "    avg_installs=installs_sum/len_category\n",
    "    #Print the genre name and the average\n",
    "    print(genre+' : '+str(avg_installs))"
   ]
  },
  {
   "cell_type": "markdown",
   "metadata": {},
   "source": [
    "The clear leader for installs among the Google Play Store genres is Communication, with a per-app average of about 38,456,119 installs. There are 8 other categories listed with over a million average installs: Video Players, Social, Photography, Productivity, Game, Travel and Local, Entertainment, and Tools.\n",
    "\n",
    "### What Should We Build?\n",
    "\n",
    "This distribution raises an interesting question for us, as we had recommended making a new game app after inspecting our Apple data set earlier. Considering this Google data shows us that the Game genre has an average of over 15 million installs per app, a new game app should be a relatively safe bet across the two platforms.\n",
    "\n",
    "However, like the top ratings gatherer of Social Networking on the Apple App Store, here we again see a similar genre, Communication, coming out on top for installs as well. While it's true that these categories contain established favorites such as Telegram, Skype, and WhatsApp, it might be worth thinking about whether our company can generate a communication app that could break into this market. This could be more of a gamble than producing a new mobile game, but would pay off if our company can come up with an innovative and appealing communication app idea. For example, a chat and video communication app with enhanced encryption and security features might have an edge that lures users away from the larger players in the social and communication app marketplace. We could produce a platform combining the communication features of WhatsApp and Instagram Live, with a better web experience and group chat than WhatsApp and without the privacy concerns inherent in Instagram's ownership by Facebook. This is a tall order considering the in-app ads that generate our revenue traditionally rely on tracking user data, but it might be an opportunity to try a fresh new approach to advertising as well, such as having users choose their own advertising experience.\n",
    "\n",
    "## Conclusions\n",
    "\n",
    "In this project, we analyzed data sets of the apps in the Google Play Store and Apple App Store with the goal of recommending a genre for app development that minimizes our company's risk and overhead.\n",
    "\n",
    "We concluded that the Games genre on both markets looks like a reasonably safe bet. However, we also considered that if we can produce a fresh and innovative platform with the potential to gain a following in the Social/Communication genre, we could tap into the largest and most active mobile app userbase."
   ]
  },
  {
   "cell_type": "code",
   "execution_count": null,
   "metadata": {},
   "outputs": [],
   "source": []
  }
 ],
 "metadata": {
  "kernelspec": {
   "display_name": "Python 3",
   "language": "python",
   "name": "python3"
  },
  "language_info": {
   "codemirror_mode": {
    "name": "ipython",
    "version": 3
   },
   "file_extension": ".py",
   "mimetype": "text/x-python",
   "name": "python",
   "nbconvert_exporter": "python",
   "pygments_lexer": "ipython3",
   "version": "3.7.6"
  }
 },
 "nbformat": 4,
 "nbformat_minor": 4
}
